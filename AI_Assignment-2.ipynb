{
 "cells": [
  {
   "cell_type": "code",
   "execution_count": 2,
   "id": "34afcec1",
   "metadata": {},
   "outputs": [
    {
     "name": "stdout",
     "output_type": "stream",
     "text": [
      "length: 4\n",
      "path: [(0, 0), (0, 1), (1, 2), (2, 2)]\n"
     ]
    }
   ],
   "source": [
    "class Grid:\n",
    "    def __init__(self,start):\n",
    "        self.start=start\n",
    "        self.n=len(start)\n",
    "        \n",
    "    def testgoal(self,r,c):\n",
    "        \n",
    "        #if(self.start[0][0]!=0 or self.start[self.n-1][self.n-1]!=0):\n",
    "           # return False\n",
    "       # return True\n",
    "        return r==self.n-1 and c==self.n-1\n",
    "    \n",
    "    def movegen(self,r,c):\n",
    "        directions=[(0,1),(0,-1),(1,0),(-1,0),(-1,-1),(1,1),(-1,1),(1,-1)]\n",
    "        moves=[]\n",
    "        for i,j in directions:\n",
    "            ni,nj=r+i,c+j\n",
    "            if 0<=ni<self.n and 0<=nj<self.n and self.start[ni][nj]==0:\n",
    "                moves.append((ni,nj));\n",
    "        return moves \n",
    "    def __str__(self):\n",
    "        return \"\\n\".join(\" \".join(str(x) for x in row) for row in self.start)\n",
    "\n",
    "def hewristic(r,c,n):\n",
    "    #matix order-1-row+matrix order-1-col\n",
    "    return abs(n-1-r)+abs(n-1-c);\n",
    "    \n",
    "\n",
    "    \n",
    "def best_first_search(start):\n",
    "    if start.start[0][0] != 0 or start.start[start.n-1][start.n-1] != 0:\n",
    "        return 0, \"Path does not exist\"\n",
    "    OPEN=[(0,0,hewristic(0,0,start.n),1,[(0,0)])]\n",
    "    CLOSED=[]\n",
    "    while OPEN:\n",
    "        OPEN.sort(key=lambda x:x[2])\n",
    "        r,c,h,l,path=OPEN.pop(0)\n",
    "        \n",
    "        if start.testgoal(r,c):\n",
    "            CLOSED.append((r,c))\n",
    "            return l,path\n",
    "        CLOSED.append((r,c))\n",
    "        \n",
    "        for nr,nc in start.movegen(r,c):\n",
    "            if (nr,nc) not in CLOSED and all((nr,nc)!=(x[0],x[1]) for x in OPEN):\n",
    "                OPEN.append((nr,nc,hewristic(nr,nc,start.n),l+1,path+[(nr,nc)]))\n",
    "    return 0,\"path doesnot exist\"\n",
    "        \n",
    "grid=[[0,0,0],[0,1,0],[0,0,0]]\n",
    "obj1=Grid(grid)\n",
    "l,path=best_first_search(obj1)\n",
    "print(\"length:\",l)\n",
    "print(\"path:\",path)"
   ]
  },
  {
   "cell_type": "code",
   "execution_count": 3,
   "id": "7172e007",
   "metadata": {},
   "outputs": [
    {
     "name": "stdout",
     "output_type": "stream",
     "text": [
      "length: 4\n",
      "path: [(0, 0), (0, 1), (1, 2), (2, 2)]\n"
     ]
    }
   ],
   "source": [
    "class Grid:\n",
    "    def __init__(self,start):\n",
    "        self.start=start\n",
    "        self.n=len(start)\n",
    "        \n",
    "    def testgoal(self,r,c):\n",
    "        return r==self.n-1 and c==self.n-1\n",
    "    \n",
    "    def movegen(self,r,c):\n",
    "        directions=[(0,1),(0,-1),(1,0),(-1,0),(-1,-1),(1,1),(-1,1),(1,-1)]\n",
    "        moves=[]\n",
    "        for i,j in directions:\n",
    "            ni,nj=r+i,c+j\n",
    "            if 0<=ni<self.n and 0<=nj<self.n and self.start[ni][nj]==0:\n",
    "                moves.append((ni,nj))\n",
    "        return moves \n",
    "    \n",
    "def hewristic(r,c,n):\n",
    "    return max(abs(n-1-r), abs(n-1-c))\n",
    "\n",
    "def A_star(obj):\n",
    "    start=(0,0)\n",
    "    goal=(obj.n-1,obj.n-1)\n",
    "    \n",
    "    if obj.start[0][0] != 0 or obj.start[goal[0]][goal[1]] != 0:\n",
    "        return \"infinity\",\"path does not exist\"\n",
    "    \n",
    "    OPEN=[(hewristic(0,0,obj.n),1,start,[start])]\n",
    "    CLOSED=set()\n",
    "    \n",
    "    while OPEN:\n",
    "        N=min(OPEN,key=lambda x:x[0])\n",
    "        OPEN.remove(N)\n",
    "        f,g,(r,c),path=N\n",
    "        \n",
    "        if obj.testgoal(r,c):\n",
    "            return g,path\n",
    "        \n",
    "        if (r,c) in CLOSED:\n",
    "            continue\n",
    "        CLOSED.add((r,c))\n",
    "        \n",
    "        for nr,nc in obj.movegen(r,c):\n",
    "            new_g = g + 1\n",
    "            h = hewristic(nr,nc,obj.n)\n",
    "            new_f = new_g + h\n",
    "            OPEN.append((new_f,new_g,(nr,nc), path + [(nr,nc)]))\n",
    "    \n",
    "    return \"infinity\",\"path does not exist\"\n",
    "\n",
    "grid=[[0,0,0],[0,1,0],[0,0,0]]\n",
    "obj1=Grid(grid)\n",
    "l,path=A_star(obj1)\n",
    "print(\"length:\",l)\n",
    "print(\"path:\",path)"
   ]
  }
 ],
 "metadata": {
  "kernelspec": {
   "display_name": "Python 3",
   "language": "python",
   "name": "python3"
  },
  "language_info": {
   "codemirror_mode": {
    "name": "ipython",
    "version": 3
   },
   "file_extension": ".py",
   "mimetype": "text/x-python",
   "name": "python",
   "nbconvert_exporter": "python",
   "pygments_lexer": "ipython3",
   "version": "3.10.12"
  }
 },
 "nbformat": 4,
 "nbformat_minor": 5
}
